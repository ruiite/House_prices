{
 "cells": [
  {
   "cell_type": "code",
   "execution_count": 2,
   "metadata": {},
   "outputs": [],
   "source": [
    "import pandas as pd\n",
    "import numpy as np"
   ]
  },
  {
   "cell_type": "code",
   "execution_count": 3,
   "metadata": {},
   "outputs": [],
   "source": [
    "import seaborn as sns "
   ]
  },
  {
   "cell_type": "code",
   "execution_count": 4,
   "metadata": {},
   "outputs": [],
   "source": [
    "import matplotlib.pyplot as plt"
   ]
  },
  {
   "cell_type": "code",
   "execution_count": 5,
   "metadata": {},
   "outputs": [],
   "source": [
    "from sklearn.impute import KNNImputer"
   ]
  },
  {
   "cell_type": "code",
   "execution_count": 103,
   "metadata": {},
   "outputs": [],
   "source": [
    "from xgboost import XGBRegressor\n",
    "from sklearn.model_selection import train_test_split, GridSearchCV"
   ]
  },
  {
   "cell_type": "code",
   "execution_count": 195,
   "metadata": {},
   "outputs": [],
   "source": [
    "train = pd.read_csv('flat_info_train.csv')\n",
    "test = pd.read_csv('flat_info_test.csv')"
   ]
  },
  {
   "cell_type": "code",
   "execution_count": 196,
   "metadata": {},
   "outputs": [
    {
     "data": {
      "text/html": [
       "<div>\n",
       "<style scoped>\n",
       "    .dataframe tbody tr th:only-of-type {\n",
       "        vertical-align: middle;\n",
       "    }\n",
       "\n",
       "    .dataframe tbody tr th {\n",
       "        vertical-align: top;\n",
       "    }\n",
       "\n",
       "    .dataframe thead th {\n",
       "        text-align: right;\n",
       "    }\n",
       "</style>\n",
       "<table border=\"1\" class=\"dataframe\">\n",
       "  <thead>\n",
       "    <tr style=\"text-align: right;\">\n",
       "      <th></th>\n",
       "      <th>id</th>\n",
       "      <th>name</th>\n",
       "      <th>host_id</th>\n",
       "      <th>host_name</th>\n",
       "      <th>neighbourhood</th>\n",
       "      <th>latitude</th>\n",
       "      <th>longitude</th>\n",
       "      <th>room_type</th>\n",
       "      <th>minimum_nights</th>\n",
       "      <th>number_of_reviews</th>\n",
       "      <th>last_review</th>\n",
       "      <th>reviews_per_month</th>\n",
       "      <th>calculated_host_listings_count</th>\n",
       "      <th>availability_365</th>\n",
       "      <th>price</th>\n",
       "    </tr>\n",
       "  </thead>\n",
       "  <tbody>\n",
       "    <tr>\n",
       "      <th>0</th>\n",
       "      <td>36378153</td>\n",
       "      <td>BCN life - Habitación</td>\n",
       "      <td>96039422</td>\n",
       "      <td>Rogerio</td>\n",
       "      <td>la Sagrera</td>\n",
       "      <td>41.42058</td>\n",
       "      <td>2.18816</td>\n",
       "      <td>Private room</td>\n",
       "      <td>31</td>\n",
       "      <td>0</td>\n",
       "      <td>NaN</td>\n",
       "      <td>NaN</td>\n",
       "      <td>1</td>\n",
       "      <td>365</td>\n",
       "      <td>13</td>\n",
       "    </tr>\n",
       "    <tr>\n",
       "      <th>1</th>\n",
       "      <td>26940439</td>\n",
       "      <td>Two Bedroom Apartment next to Sagrada Familia</td>\n",
       "      <td>98330509</td>\n",
       "      <td>Apart-Suites</td>\n",
       "      <td>la Sagrada Família</td>\n",
       "      <td>41.40149</td>\n",
       "      <td>2.17145</td>\n",
       "      <td>Entire home/apt</td>\n",
       "      <td>2</td>\n",
       "      <td>1</td>\n",
       "      <td>2020-10-26</td>\n",
       "      <td>0.28</td>\n",
       "      <td>5</td>\n",
       "      <td>279</td>\n",
       "      <td>141</td>\n",
       "    </tr>\n",
       "    <tr>\n",
       "      <th>2</th>\n",
       "      <td>42962582</td>\n",
       "      <td>Hostal Nitzs BCN, Small Double w/ Shared Bathroom</td>\n",
       "      <td>341323870</td>\n",
       "      <td>Hostal Nitzs BCN</td>\n",
       "      <td>el Barri Gòtic</td>\n",
       "      <td>41.38211</td>\n",
       "      <td>2.17781</td>\n",
       "      <td>Private room</td>\n",
       "      <td>1</td>\n",
       "      <td>28</td>\n",
       "      <td>2020-10-22</td>\n",
       "      <td>3.87</td>\n",
       "      <td>5</td>\n",
       "      <td>365</td>\n",
       "      <td>999</td>\n",
       "    </tr>\n",
       "    <tr>\n",
       "      <th>3</th>\n",
       "      <td>36423530</td>\n",
       "      <td>GRAN Apto.Centro BCN. 5HAB. 3 BAÑOS  Eixample</td>\n",
       "      <td>36438736</td>\n",
       "      <td>Dessy</td>\n",
       "      <td>l'Antiga Esquerra de l'Eixample</td>\n",
       "      <td>41.38985</td>\n",
       "      <td>2.15507</td>\n",
       "      <td>Entire home/apt</td>\n",
       "      <td>2</td>\n",
       "      <td>10</td>\n",
       "      <td>2020-02-09</td>\n",
       "      <td>0.51</td>\n",
       "      <td>1</td>\n",
       "      <td>225</td>\n",
       "      <td>289</td>\n",
       "    </tr>\n",
       "    <tr>\n",
       "      <th>4</th>\n",
       "      <td>23931051</td>\n",
       "      <td>Lucuma - Nice apartment at 7 min. walk of Ramb...</td>\n",
       "      <td>175453328</td>\n",
       "      <td>Amarantha</td>\n",
       "      <td>Sant Gervasi - Galvany</td>\n",
       "      <td>41.39416</td>\n",
       "      <td>2.14736</td>\n",
       "      <td>Entire home/apt</td>\n",
       "      <td>1</td>\n",
       "      <td>1</td>\n",
       "      <td>2018-09-30</td>\n",
       "      <td>0.03</td>\n",
       "      <td>12</td>\n",
       "      <td>332</td>\n",
       "      <td>86</td>\n",
       "    </tr>\n",
       "  </tbody>\n",
       "</table>\n",
       "</div>"
      ],
      "text/plain": [
       "         id                                               name    host_id  \\\n",
       "0  36378153                              BCN life - Habitación   96039422   \n",
       "1  26940439      Two Bedroom Apartment next to Sagrada Familia   98330509   \n",
       "2  42962582  Hostal Nitzs BCN, Small Double w/ Shared Bathroom  341323870   \n",
       "3  36423530      GRAN Apto.Centro BCN. 5HAB. 3 BAÑOS  Eixample   36438736   \n",
       "4  23931051  Lucuma - Nice apartment at 7 min. walk of Ramb...  175453328   \n",
       "\n",
       "          host_name                    neighbourhood  latitude  longitude  \\\n",
       "0           Rogerio                       la Sagrera  41.42058    2.18816   \n",
       "1      Apart-Suites               la Sagrada Família  41.40149    2.17145   \n",
       "2  Hostal Nitzs BCN                   el Barri Gòtic  41.38211    2.17781   \n",
       "3             Dessy  l'Antiga Esquerra de l'Eixample  41.38985    2.15507   \n",
       "4         Amarantha           Sant Gervasi - Galvany  41.39416    2.14736   \n",
       "\n",
       "         room_type  minimum_nights  number_of_reviews last_review  \\\n",
       "0     Private room              31                  0         NaN   \n",
       "1  Entire home/apt               2                  1  2020-10-26   \n",
       "2     Private room               1                 28  2020-10-22   \n",
       "3  Entire home/apt               2                 10  2020-02-09   \n",
       "4  Entire home/apt               1                  1  2018-09-30   \n",
       "\n",
       "   reviews_per_month  calculated_host_listings_count  availability_365  price  \n",
       "0                NaN                               1               365     13  \n",
       "1               0.28                               5               279    141  \n",
       "2               3.87                               5               365    999  \n",
       "3               0.51                               1               225    289  \n",
       "4               0.03                              12               332     86  "
      ]
     },
     "execution_count": 196,
     "metadata": {},
     "output_type": "execute_result"
    }
   ],
   "source": [
    "train.head()"
   ]
  },
  {
   "cell_type": "code",
   "execution_count": 197,
   "metadata": {},
   "outputs": [
    {
     "data": {
      "text/plain": [
       "(16623, 15)"
      ]
     },
     "execution_count": 197,
     "metadata": {},
     "output_type": "execute_result"
    }
   ],
   "source": [
    "train.shape"
   ]
  },
  {
   "cell_type": "code",
   "execution_count": 198,
   "metadata": {},
   "outputs": [
    {
     "data": {
      "text/plain": [
       "(1848, 14)"
      ]
     },
     "execution_count": 198,
     "metadata": {},
     "output_type": "execute_result"
    }
   ],
   "source": [
    "test.shape"
   ]
  },
  {
   "cell_type": "code",
   "execution_count": 199,
   "metadata": {},
   "outputs": [
    {
     "name": "stdout",
     "output_type": "stream",
     "text": [
      "<class 'pandas.core.frame.DataFrame'>\n",
      "RangeIndex: 16623 entries, 0 to 16622\n",
      "Data columns (total 15 columns):\n",
      " #   Column                          Non-Null Count  Dtype  \n",
      "---  ------                          --------------  -----  \n",
      " 0   id                              16623 non-null  int64  \n",
      " 1   name                            16614 non-null  object \n",
      " 2   host_id                         16623 non-null  int64  \n",
      " 3   host_name                       16609 non-null  object \n",
      " 4   neighbourhood                   16623 non-null  object \n",
      " 5   latitude                        16623 non-null  float64\n",
      " 6   longitude                       16623 non-null  float64\n",
      " 7   room_type                       16623 non-null  object \n",
      " 8   minimum_nights                  16623 non-null  int64  \n",
      " 9   number_of_reviews               16623 non-null  int64  \n",
      " 10  last_review                     11404 non-null  object \n",
      " 11  reviews_per_month               11404 non-null  float64\n",
      " 12  calculated_host_listings_count  16623 non-null  int64  \n",
      " 13  availability_365                16623 non-null  int64  \n",
      " 14  price                           16623 non-null  int64  \n",
      "dtypes: float64(3), int64(7), object(5)\n",
      "memory usage: 1.9+ MB\n"
     ]
    }
   ],
   "source": [
    "train.info()"
   ]
  },
  {
   "cell_type": "code",
   "execution_count": 200,
   "metadata": {},
   "outputs": [
    {
     "data": {
      "text/plain": [
       "id                                   0\n",
       "name                                 9\n",
       "host_id                              0\n",
       "host_name                           14\n",
       "neighbourhood                        0\n",
       "latitude                             0\n",
       "longitude                            0\n",
       "room_type                            0\n",
       "minimum_nights                       0\n",
       "number_of_reviews                    0\n",
       "last_review                       5219\n",
       "reviews_per_month                 5219\n",
       "calculated_host_listings_count       0\n",
       "availability_365                     0\n",
       "price                                0\n",
       "dtype: int64"
      ]
     },
     "execution_count": 200,
     "metadata": {},
     "output_type": "execute_result"
    }
   ],
   "source": [
    "train.isnull().sum()"
   ]
  },
  {
   "cell_type": "markdown",
   "metadata": {},
   "source": [
    "# task 1.a\n",
    "Distibution of prices by room types and neighbourhoods"
   ]
  },
  {
   "cell_type": "code",
   "execution_count": 14,
   "metadata": {},
   "outputs": [
    {
     "data": {
      "text/plain": [
       "Text(0.5, 1.0, 'Distribution of neighbourhoods')"
      ]
     },
     "execution_count": 14,
     "metadata": {},
     "output_type": "execute_result"
    },
    {
     "data": {
      "image/png": "[encoded data removed]",
      "text/plain": [
       "<Figure size 360x720 with 1 Axes>"
      ]
     },
     "metadata": {
      "needs_background": "light"
     },
     "output_type": "display_data"
    }
   ],
   "source": [
    "from pylab import rcParams\n",
    "rcParams['figure.figsize'] = 5, 10\n",
    "train['neighbourhood'].value_counts().plot.barh();\n",
    "plt.title(\"Distribution of neighbourhoods\")"
   ]
  },
  {
   "cell_type": "code",
   "execution_count": 15,
   "metadata": {},
   "outputs": [
    {
     "data": {
      "text/plain": [
       "la Dreta de l'Eixample                   1916\n",
       "el Raval                                 1251\n",
       "el Barri Gòtic                           1123\n",
       "Sant Pere, Santa Caterina i la Ribera    1001\n",
       "l'Antiga Esquerra de l'Eixample           927\n",
       "la Sagrada Família                        920\n",
       "el Poble Sec                              858\n",
       "la Vila de Gràcia                         847\n",
       "Sant Antoni                               809\n",
       "la Nova Esquerra de l'Eixample            718\n",
       "Name: neighbourhood, dtype: int64"
      ]
     },
     "execution_count": 15,
     "metadata": {},
     "output_type": "execute_result"
    }
   ],
   "source": [
    "train['neighbourhood'].value_counts().head(10)"
   ]
  },
  {
   "cell_type": "code",
   "execution_count": 83,
   "metadata": {},
   "outputs": [
    {
     "data": {
      "text/plain": [
       "<seaborn.axisgrid.FacetGrid at 0x7f6bd211d6d0>"
      ]
     },
     "execution_count": 83,
     "metadata": {},
     "output_type": "execute_result"
    },
    {
     "data": {
      "image/png": "[encoded data removed]",
      "text/plain": [
       "<Figure size 15552x216 with 72 Axes>"
      ]
     },
     "metadata": {
      "needs_background": "light"
     },
     "output_type": "display_data"
    }
   ],
   "source": [
    "g = sns.FacetGrid(train, col=\"neighbourhood\")\n",
    "g.map(sns.histplot, \"price\")"
   ]
  },
  {
   "cell_type": "code",
   "execution_count": 52,
   "metadata": {},
   "outputs": [
    {
     "data": {
      "text/plain": [
       "Text(0.5, 1.0, 'Distribution of room types')"
      ]
     },
     "execution_count": 52,
     "metadata": {},
     "output_type": "execute_result"
    },
    {
     "data": {
      "image/png": "[encoded data removed]",
      "text/plain": [
       "<Figure size 432x288 with 1 Axes>"
      ]
     },
     "metadata": {
      "needs_background": "light"
     },
     "output_type": "display_data"
    }
   ],
   "source": [
    "train['room_type'].value_counts().plot.barh();\n",
    "plt.title(\"Distribution of room types\")"
   ]
  },
  {
   "cell_type": "code",
   "execution_count": 82,
   "metadata": {},
   "outputs": [
    {
     "data": {
      "text/plain": [
       "<seaborn.axisgrid.FacetGrid at 0x7f6ca6ae09d0>"
      ]
     },
     "execution_count": 82,
     "metadata": {},
     "output_type": "execute_result"
    },
    {
     "data": {
      "image/png": "[encoded data removed]",
      "text/plain": [
       "<Figure size 864x216 with 4 Axes>"
      ]
     },
     "metadata": {
      "needs_background": "light"
     },
     "output_type": "display_data"
    }
   ],
   "source": [
    "g = sns.FacetGrid(train, col=\"room_type\")\n",
    "g.map(sns.histplot, \"price\")"
   ]
  },
  {
   "cell_type": "markdown",
   "metadata": {},
   "source": [
    "# notes\n",
    "we see in each category anomaly  \n",
    "Delete features that doesn't have any logical impact on our price"
   ]
  },
  {
   "cell_type": "code",
   "execution_count": 201,
   "metadata": {},
   "outputs": [],
   "source": [
    "train = train.drop(['id','name','host_id','host_name'],axis=1)"
   ]
  },
  {
   "cell_type": "code",
   "execution_count": 17,
   "metadata": {},
   "outputs": [],
   "source": [
    "test_neighbourhoods = list(test.neighbourhood.unique())\n",
    "train_neighbourhoods = list(train.neighbourhood.unique())\n",
    "for place in test_neighbourhoods:\n",
    "    if place not in train_neighbourhoods:\n",
    "        print(place)"
   ]
  },
  {
   "cell_type": "markdown",
   "metadata": {},
   "source": [
    "### we see that all places that in test dataset are in train"
   ]
  },
  {
   "cell_type": "code",
   "execution_count": 78,
   "metadata": {},
   "outputs": [],
   "source": [
    "train1 = pd.read_csv('flat_info_train.csv')\n"
   ]
  },
  {
   "cell_type": "code",
   "execution_count": 202,
   "metadata": {},
   "outputs": [],
   "source": [
    "hash_space=3000\n",
    "train['hashed_places'] = pd.Series(hash(place)%hash_space for place in train.neighbourhood)"
   ]
  },
  {
   "cell_type": "code",
   "execution_count": 203,
   "metadata": {},
   "outputs": [],
   "source": [
    "train = train.drop('neighbourhood' ,axis=1)"
   ]
  },
  {
   "cell_type": "code",
   "execution_count": 204,
   "metadata": {},
   "outputs": [],
   "source": [
    "train['hashed_rooms'] = pd.Series(hash(place)%hash_space for place in train.room_type)"
   ]
  },
  {
   "cell_type": "code",
   "execution_count": 205,
   "metadata": {},
   "outputs": [],
   "source": [
    "train = train.drop('room_type' ,axis=1)"
   ]
  },
  {
   "cell_type": "markdown",
   "metadata": {},
   "source": [
    "### using hashing trick to neighbourhood categorical feature and for room_type "
   ]
  },
  {
   "cell_type": "code",
   "execution_count": 206,
   "metadata": {},
   "outputs": [
    {
     "name": "stdout",
     "output_type": "stream",
     "text": [
      "2021-06-22\n"
     ]
    }
   ],
   "source": [
    "from datetime import datetime\n",
    "\n",
    "now = datetime.now().date()\n",
    "print(now)"
   ]
  },
  {
   "cell_type": "code",
   "execution_count": 207,
   "metadata": {},
   "outputs": [],
   "source": [
    "train.last_review = pd.to_datetime(train.last_review)"
   ]
  },
  {
   "cell_type": "code",
   "execution_count": 208,
   "metadata": {},
   "outputs": [],
   "source": [
    "new_days=[]\n",
    "for last in train.last_review:\n",
    "    try:\n",
    "        new_days.append((now-last.date()).days)\n",
    "    except:\n",
    "        new_days.append(np.nan)"
   ]
  },
  {
   "cell_type": "code",
   "execution_count": 209,
   "metadata": {},
   "outputs": [],
   "source": [
    "train['days_last_review'] = pd.Series(new_days)"
   ]
  },
  {
   "cell_type": "code",
   "execution_count": 210,
   "metadata": {},
   "outputs": [],
   "source": [
    "train = train.drop('last_review',axis=1)"
   ]
  },
  {
   "cell_type": "code",
   "execution_count": 212,
   "metadata": {},
   "outputs": [
    {
     "data": {
      "text/html": [
       "<div>\n",
       "<style scoped>\n",
       "    .dataframe tbody tr th:only-of-type {\n",
       "        vertical-align: middle;\n",
       "    }\n",
       "\n",
       "    .dataframe tbody tr th {\n",
       "        vertical-align: top;\n",
       "    }\n",
       "\n",
       "    .dataframe thead th {\n",
       "        text-align: right;\n",
       "    }\n",
       "</style>\n",
       "<table border=\"1\" class=\"dataframe\">\n",
       "  <thead>\n",
       "    <tr style=\"text-align: right;\">\n",
       "      <th></th>\n",
       "      <th>latitude</th>\n",
       "      <th>longitude</th>\n",
       "      <th>minimum_nights</th>\n",
       "      <th>number_of_reviews</th>\n",
       "      <th>reviews_per_month</th>\n",
       "      <th>calculated_host_listings_count</th>\n",
       "      <th>availability_365</th>\n",
       "      <th>price</th>\n",
       "      <th>hashed_places</th>\n",
       "      <th>hashed_rooms</th>\n",
       "      <th>days_last_review</th>\n",
       "    </tr>\n",
       "  </thead>\n",
       "  <tbody>\n",
       "    <tr>\n",
       "      <th>0</th>\n",
       "      <td>41.42058</td>\n",
       "      <td>2.18816</td>\n",
       "      <td>31</td>\n",
       "      <td>0</td>\n",
       "      <td>0.00</td>\n",
       "      <td>1</td>\n",
       "      <td>365</td>\n",
       "      <td>13</td>\n",
       "      <td>690</td>\n",
       "      <td>382</td>\n",
       "      <td>0.0</td>\n",
       "    </tr>\n",
       "    <tr>\n",
       "      <th>1</th>\n",
       "      <td>41.40149</td>\n",
       "      <td>2.17145</td>\n",
       "      <td>2</td>\n",
       "      <td>1</td>\n",
       "      <td>0.28</td>\n",
       "      <td>5</td>\n",
       "      <td>279</td>\n",
       "      <td>141</td>\n",
       "      <td>2704</td>\n",
       "      <td>1660</td>\n",
       "      <td>239.0</td>\n",
       "    </tr>\n",
       "    <tr>\n",
       "      <th>2</th>\n",
       "      <td>41.38211</td>\n",
       "      <td>2.17781</td>\n",
       "      <td>1</td>\n",
       "      <td>28</td>\n",
       "      <td>3.87</td>\n",
       "      <td>5</td>\n",
       "      <td>365</td>\n",
       "      <td>999</td>\n",
       "      <td>2536</td>\n",
       "      <td>382</td>\n",
       "      <td>243.0</td>\n",
       "    </tr>\n",
       "    <tr>\n",
       "      <th>3</th>\n",
       "      <td>41.38985</td>\n",
       "      <td>2.15507</td>\n",
       "      <td>2</td>\n",
       "      <td>10</td>\n",
       "      <td>0.51</td>\n",
       "      <td>1</td>\n",
       "      <td>225</td>\n",
       "      <td>289</td>\n",
       "      <td>483</td>\n",
       "      <td>1660</td>\n",
       "      <td>499.0</td>\n",
       "    </tr>\n",
       "    <tr>\n",
       "      <th>4</th>\n",
       "      <td>41.39416</td>\n",
       "      <td>2.14736</td>\n",
       "      <td>1</td>\n",
       "      <td>1</td>\n",
       "      <td>0.03</td>\n",
       "      <td>12</td>\n",
       "      <td>332</td>\n",
       "      <td>86</td>\n",
       "      <td>1507</td>\n",
       "      <td>1660</td>\n",
       "      <td>996.0</td>\n",
       "    </tr>\n",
       "    <tr>\n",
       "      <th>...</th>\n",
       "      <td>...</td>\n",
       "      <td>...</td>\n",
       "      <td>...</td>\n",
       "      <td>...</td>\n",
       "      <td>...</td>\n",
       "      <td>...</td>\n",
       "      <td>...</td>\n",
       "      <td>...</td>\n",
       "      <td>...</td>\n",
       "      <td>...</td>\n",
       "      <td>...</td>\n",
       "    </tr>\n",
       "    <tr>\n",
       "      <th>16618</th>\n",
       "      <td>41.38256</td>\n",
       "      <td>2.16736</td>\n",
       "      <td>2</td>\n",
       "      <td>44</td>\n",
       "      <td>2.14</td>\n",
       "      <td>3</td>\n",
       "      <td>161</td>\n",
       "      <td>18</td>\n",
       "      <td>2879</td>\n",
       "      <td>382</td>\n",
       "      <td>470.0</td>\n",
       "    </tr>\n",
       "    <tr>\n",
       "      <th>16619</th>\n",
       "      <td>41.37805</td>\n",
       "      <td>2.17758</td>\n",
       "      <td>2</td>\n",
       "      <td>38</td>\n",
       "      <td>1.93</td>\n",
       "      <td>1</td>\n",
       "      <td>0</td>\n",
       "      <td>50</td>\n",
       "      <td>2536</td>\n",
       "      <td>382</td>\n",
       "      <td>281.0</td>\n",
       "    </tr>\n",
       "    <tr>\n",
       "      <th>16620</th>\n",
       "      <td>41.39776</td>\n",
       "      <td>2.14171</td>\n",
       "      <td>32</td>\n",
       "      <td>17</td>\n",
       "      <td>0.39</td>\n",
       "      <td>1</td>\n",
       "      <td>348</td>\n",
       "      <td>80</td>\n",
       "      <td>1507</td>\n",
       "      <td>1660</td>\n",
       "      <td>296.0</td>\n",
       "    </tr>\n",
       "    <tr>\n",
       "      <th>16621</th>\n",
       "      <td>41.41206</td>\n",
       "      <td>2.17018</td>\n",
       "      <td>3</td>\n",
       "      <td>42</td>\n",
       "      <td>0.51</td>\n",
       "      <td>1</td>\n",
       "      <td>101</td>\n",
       "      <td>50</td>\n",
       "      <td>2084</td>\n",
       "      <td>382</td>\n",
       "      <td>484.0</td>\n",
       "    </tr>\n",
       "    <tr>\n",
       "      <th>16622</th>\n",
       "      <td>41.37729</td>\n",
       "      <td>2.18008</td>\n",
       "      <td>1</td>\n",
       "      <td>0</td>\n",
       "      <td>0.00</td>\n",
       "      <td>89</td>\n",
       "      <td>319</td>\n",
       "      <td>107</td>\n",
       "      <td>2536</td>\n",
       "      <td>1660</td>\n",
       "      <td>0.0</td>\n",
       "    </tr>\n",
       "  </tbody>\n",
       "</table>\n",
       "<p>16623 rows × 11 columns</p>\n",
       "</div>"
      ],
      "text/plain": [
       "       latitude  longitude  minimum_nights  number_of_reviews  \\\n",
       "0      41.42058    2.18816              31                  0   \n",
       "1      41.40149    2.17145               2                  1   \n",
       "2      41.38211    2.17781               1                 28   \n",
       "3      41.38985    2.15507               2                 10   \n",
       "4      41.39416    2.14736               1                  1   \n",
       "...         ...        ...             ...                ...   \n",
       "16618  41.38256    2.16736               2                 44   \n",
       "16619  41.37805    2.17758               2                 38   \n",
       "16620  41.39776    2.14171              32                 17   \n",
       "16621  41.41206    2.17018               3                 42   \n",
       "16622  41.37729    2.18008               1                  0   \n",
       "\n",
       "       reviews_per_month  calculated_host_listings_count  availability_365  \\\n",
       "0                   0.00                               1               365   \n",
       "1                   0.28                               5               279   \n",
       "2                   3.87                               5               365   \n",
       "3                   0.51                               1               225   \n",
       "4                   0.03                              12               332   \n",
       "...                  ...                             ...               ...   \n",
       "16618               2.14                               3               161   \n",
       "16619               1.93                               1                 0   \n",
       "16620               0.39                               1               348   \n",
       "16621               0.51                               1               101   \n",
       "16622               0.00                              89               319   \n",
       "\n",
       "       price  hashed_places  hashed_rooms  days_last_review  \n",
       "0         13            690           382               0.0  \n",
       "1        141           2704          1660             239.0  \n",
       "2        999           2536           382             243.0  \n",
       "3        289            483          1660             499.0  \n",
       "4         86           1507          1660             996.0  \n",
       "...      ...            ...           ...               ...  \n",
       "16618     18           2879           382             470.0  \n",
       "16619     50           2536           382             281.0  \n",
       "16620     80           1507          1660             296.0  \n",
       "16621     50           2084           382             484.0  \n",
       "16622    107           2536          1660               0.0  \n",
       "\n",
       "[16623 rows x 11 columns]"
      ]
     },
     "execution_count": 212,
     "metadata": {},
     "output_type": "execute_result"
    }
   ],
   "source": [
    "train.fillna(0)"
   ]
  },
  {
   "cell_type": "markdown",
   "metadata": {},
   "source": [
    "### create new feature with the same sense -- days from last review"
   ]
  },
  {
   "cell_type": "markdown",
   "metadata": {},
   "source": [
    "# Task 1.b\n",
    "Statistics of number_of_reviews, reviews_per_month, days_last_review"
   ]
  },
  {
   "cell_type": "code",
   "execution_count": 27,
   "metadata": {},
   "outputs": [
    {
     "data": {
      "text/html": [
       "<div>\n",
       "<style scoped>\n",
       "    .dataframe tbody tr th:only-of-type {\n",
       "        vertical-align: middle;\n",
       "    }\n",
       "\n",
       "    .dataframe tbody tr th {\n",
       "        vertical-align: top;\n",
       "    }\n",
       "\n",
       "    .dataframe thead th {\n",
       "        text-align: right;\n",
       "    }\n",
       "</style>\n",
       "<table border=\"1\" class=\"dataframe\">\n",
       "  <thead>\n",
       "    <tr style=\"text-align: right;\">\n",
       "      <th></th>\n",
       "      <th>number_of_reviews</th>\n",
       "      <th>reviews_per_month</th>\n",
       "      <th>days_last_review</th>\n",
       "    </tr>\n",
       "  </thead>\n",
       "  <tbody>\n",
       "    <tr>\n",
       "      <th>count</th>\n",
       "      <td>16623.000000</td>\n",
       "      <td>11404.000000</td>\n",
       "      <td>11404.000000</td>\n",
       "    </tr>\n",
       "    <tr>\n",
       "      <th>mean</th>\n",
       "      <td>31.809060</td>\n",
       "      <td>0.969043</td>\n",
       "      <td>564.386794</td>\n",
       "    </tr>\n",
       "    <tr>\n",
       "      <th>std</th>\n",
       "      <td>63.500847</td>\n",
       "      <td>1.132891</td>\n",
       "      <td>396.695214</td>\n",
       "    </tr>\n",
       "    <tr>\n",
       "      <th>min</th>\n",
       "      <td>0.000000</td>\n",
       "      <td>0.010000</td>\n",
       "      <td>132.000000</td>\n",
       "    </tr>\n",
       "    <tr>\n",
       "      <th>25%</th>\n",
       "      <td>0.000000</td>\n",
       "      <td>0.150000</td>\n",
       "      <td>304.000000</td>\n",
       "    </tr>\n",
       "    <tr>\n",
       "      <th>50%</th>\n",
       "      <td>3.000000</td>\n",
       "      <td>0.520000</td>\n",
       "      <td>479.000000</td>\n",
       "    </tr>\n",
       "    <tr>\n",
       "      <th>75%</th>\n",
       "      <td>33.000000</td>\n",
       "      <td>1.450000</td>\n",
       "      <td>634.000000</td>\n",
       "    </tr>\n",
       "    <tr>\n",
       "      <th>max</th>\n",
       "      <td>786.000000</td>\n",
       "      <td>15.540000</td>\n",
       "      <td>3293.000000</td>\n",
       "    </tr>\n",
       "  </tbody>\n",
       "</table>\n",
       "</div>"
      ],
      "text/plain": [
       "       number_of_reviews  reviews_per_month  days_last_review\n",
       "count       16623.000000       11404.000000      11404.000000\n",
       "mean           31.809060           0.969043        564.386794\n",
       "std            63.500847           1.132891        396.695214\n",
       "min             0.000000           0.010000        132.000000\n",
       "25%             0.000000           0.150000        304.000000\n",
       "50%             3.000000           0.520000        479.000000\n",
       "75%            33.000000           1.450000        634.000000\n",
       "max           786.000000          15.540000       3293.000000"
      ]
     },
     "execution_count": 27,
     "metadata": {},
     "output_type": "execute_result"
    }
   ],
   "source": [
    "train[['number_of_reviews','reviews_per_month','days_last_review']].describe()"
   ]
  },
  {
   "cell_type": "code",
   "execution_count": 28,
   "metadata": {},
   "outputs": [],
   "source": [
    "imputer = KNNImputer(n_neighbors=5)"
   ]
  },
  {
   "cell_type": "code",
   "execution_count": 30,
   "metadata": {},
   "outputs": [],
   "source": [
    "new_train=imputer.fit_transform(train)"
   ]
  },
  {
   "cell_type": "code",
   "execution_count": 32,
   "metadata": {},
   "outputs": [],
   "source": [
    "new_train = pd.DataFrame(data=new_train,columns=['latitude','longitude','minimum_nights','number_of_reviews','reviews_per_month','calculated_host_listings_count','availability_365','price','hashed_places','hashed_rooms','days_last_review'])"
   ]
  },
  {
   "cell_type": "code",
   "execution_count": 33,
   "metadata": {},
   "outputs": [
    {
     "data": {
      "text/html": [
       "<div>\n",
       "<style scoped>\n",
       "    .dataframe tbody tr th:only-of-type {\n",
       "        vertical-align: middle;\n",
       "    }\n",
       "\n",
       "    .dataframe tbody tr th {\n",
       "        vertical-align: top;\n",
       "    }\n",
       "\n",
       "    .dataframe thead th {\n",
       "        text-align: right;\n",
       "    }\n",
       "</style>\n",
       "<table border=\"1\" class=\"dataframe\">\n",
       "  <thead>\n",
       "    <tr style=\"text-align: right;\">\n",
       "      <th></th>\n",
       "      <th>latitude</th>\n",
       "      <th>longitude</th>\n",
       "      <th>minimum_nights</th>\n",
       "      <th>number_of_reviews</th>\n",
       "      <th>reviews_per_month</th>\n",
       "      <th>calculated_host_listings_count</th>\n",
       "      <th>availability_365</th>\n",
       "      <th>price</th>\n",
       "      <th>hashed_places</th>\n",
       "      <th>hashed_rooms</th>\n",
       "      <th>days_last_review</th>\n",
       "    </tr>\n",
       "  </thead>\n",
       "  <tbody>\n",
       "    <tr>\n",
       "      <th>0</th>\n",
       "      <td>41.42058</td>\n",
       "      <td>2.18816</td>\n",
       "      <td>31.0</td>\n",
       "      <td>0.0</td>\n",
       "      <td>0.206</td>\n",
       "      <td>1.0</td>\n",
       "      <td>365.0</td>\n",
       "      <td>13.0</td>\n",
       "      <td>10.0</td>\n",
       "      <td>62.0</td>\n",
       "      <td>474.7</td>\n",
       "    </tr>\n",
       "    <tr>\n",
       "      <th>1</th>\n",
       "      <td>41.40149</td>\n",
       "      <td>2.17145</td>\n",
       "      <td>2.0</td>\n",
       "      <td>1.0</td>\n",
       "      <td>0.280</td>\n",
       "      <td>5.0</td>\n",
       "      <td>279.0</td>\n",
       "      <td>141.0</td>\n",
       "      <td>24.0</td>\n",
       "      <td>60.0</td>\n",
       "      <td>239.0</td>\n",
       "    </tr>\n",
       "    <tr>\n",
       "      <th>2</th>\n",
       "      <td>41.38211</td>\n",
       "      <td>2.17781</td>\n",
       "      <td>1.0</td>\n",
       "      <td>28.0</td>\n",
       "      <td>3.870</td>\n",
       "      <td>5.0</td>\n",
       "      <td>365.0</td>\n",
       "      <td>999.0</td>\n",
       "      <td>16.0</td>\n",
       "      <td>62.0</td>\n",
       "      <td>243.0</td>\n",
       "    </tr>\n",
       "    <tr>\n",
       "      <th>3</th>\n",
       "      <td>41.38985</td>\n",
       "      <td>2.15507</td>\n",
       "      <td>2.0</td>\n",
       "      <td>10.0</td>\n",
       "      <td>0.510</td>\n",
       "      <td>1.0</td>\n",
       "      <td>225.0</td>\n",
       "      <td>289.0</td>\n",
       "      <td>3.0</td>\n",
       "      <td>60.0</td>\n",
       "      <td>499.0</td>\n",
       "    </tr>\n",
       "    <tr>\n",
       "      <th>4</th>\n",
       "      <td>41.39416</td>\n",
       "      <td>2.14736</td>\n",
       "      <td>1.0</td>\n",
       "      <td>1.0</td>\n",
       "      <td>0.030</td>\n",
       "      <td>12.0</td>\n",
       "      <td>332.0</td>\n",
       "      <td>86.0</td>\n",
       "      <td>27.0</td>\n",
       "      <td>60.0</td>\n",
       "      <td>996.0</td>\n",
       "    </tr>\n",
       "    <tr>\n",
       "      <th>...</th>\n",
       "      <td>...</td>\n",
       "      <td>...</td>\n",
       "      <td>...</td>\n",
       "      <td>...</td>\n",
       "      <td>...</td>\n",
       "      <td>...</td>\n",
       "      <td>...</td>\n",
       "      <td>...</td>\n",
       "      <td>...</td>\n",
       "      <td>...</td>\n",
       "      <td>...</td>\n",
       "    </tr>\n",
       "    <tr>\n",
       "      <th>16618</th>\n",
       "      <td>41.38256</td>\n",
       "      <td>2.16736</td>\n",
       "      <td>2.0</td>\n",
       "      <td>44.0</td>\n",
       "      <td>2.140</td>\n",
       "      <td>3.0</td>\n",
       "      <td>161.0</td>\n",
       "      <td>18.0</td>\n",
       "      <td>79.0</td>\n",
       "      <td>62.0</td>\n",
       "      <td>470.0</td>\n",
       "    </tr>\n",
       "    <tr>\n",
       "      <th>16619</th>\n",
       "      <td>41.37805</td>\n",
       "      <td>2.17758</td>\n",
       "      <td>2.0</td>\n",
       "      <td>38.0</td>\n",
       "      <td>1.930</td>\n",
       "      <td>1.0</td>\n",
       "      <td>0.0</td>\n",
       "      <td>50.0</td>\n",
       "      <td>16.0</td>\n",
       "      <td>62.0</td>\n",
       "      <td>281.0</td>\n",
       "    </tr>\n",
       "    <tr>\n",
       "      <th>16620</th>\n",
       "      <td>41.39776</td>\n",
       "      <td>2.14171</td>\n",
       "      <td>32.0</td>\n",
       "      <td>17.0</td>\n",
       "      <td>0.390</td>\n",
       "      <td>1.0</td>\n",
       "      <td>348.0</td>\n",
       "      <td>80.0</td>\n",
       "      <td>27.0</td>\n",
       "      <td>60.0</td>\n",
       "      <td>296.0</td>\n",
       "    </tr>\n",
       "    <tr>\n",
       "      <th>16621</th>\n",
       "      <td>41.41206</td>\n",
       "      <td>2.17018</td>\n",
       "      <td>3.0</td>\n",
       "      <td>42.0</td>\n",
       "      <td>0.510</td>\n",
       "      <td>1.0</td>\n",
       "      <td>101.0</td>\n",
       "      <td>50.0</td>\n",
       "      <td>4.0</td>\n",
       "      <td>62.0</td>\n",
       "      <td>484.0</td>\n",
       "    </tr>\n",
       "    <tr>\n",
       "      <th>16622</th>\n",
       "      <td>41.37729</td>\n",
       "      <td>2.18008</td>\n",
       "      <td>1.0</td>\n",
       "      <td>0.0</td>\n",
       "      <td>0.140</td>\n",
       "      <td>89.0</td>\n",
       "      <td>319.0</td>\n",
       "      <td>107.0</td>\n",
       "      <td>16.0</td>\n",
       "      <td>60.0</td>\n",
       "      <td>369.4</td>\n",
       "    </tr>\n",
       "  </tbody>\n",
       "</table>\n",
       "<p>16623 rows × 11 columns</p>\n",
       "</div>"
      ],
      "text/plain": [
       "       latitude  longitude  minimum_nights  number_of_reviews  \\\n",
       "0      41.42058    2.18816            31.0                0.0   \n",
       "1      41.40149    2.17145             2.0                1.0   \n",
       "2      41.38211    2.17781             1.0               28.0   \n",
       "3      41.38985    2.15507             2.0               10.0   \n",
       "4      41.39416    2.14736             1.0                1.0   \n",
       "...         ...        ...             ...                ...   \n",
       "16618  41.38256    2.16736             2.0               44.0   \n",
       "16619  41.37805    2.17758             2.0               38.0   \n",
       "16620  41.39776    2.14171            32.0               17.0   \n",
       "16621  41.41206    2.17018             3.0               42.0   \n",
       "16622  41.37729    2.18008             1.0                0.0   \n",
       "\n",
       "       reviews_per_month  calculated_host_listings_count  availability_365  \\\n",
       "0                  0.206                             1.0             365.0   \n",
       "1                  0.280                             5.0             279.0   \n",
       "2                  3.870                             5.0             365.0   \n",
       "3                  0.510                             1.0             225.0   \n",
       "4                  0.030                            12.0             332.0   \n",
       "...                  ...                             ...               ...   \n",
       "16618              2.140                             3.0             161.0   \n",
       "16619              1.930                             1.0               0.0   \n",
       "16620              0.390                             1.0             348.0   \n",
       "16621              0.510                             1.0             101.0   \n",
       "16622              0.140                            89.0             319.0   \n",
       "\n",
       "       price  hashed_places  hashed_rooms  days_last_review  \n",
       "0       13.0           10.0          62.0             474.7  \n",
       "1      141.0           24.0          60.0             239.0  \n",
       "2      999.0           16.0          62.0             243.0  \n",
       "3      289.0            3.0          60.0             499.0  \n",
       "4       86.0           27.0          60.0             996.0  \n",
       "...      ...            ...           ...               ...  \n",
       "16618   18.0           79.0          62.0             470.0  \n",
       "16619   50.0           16.0          62.0             281.0  \n",
       "16620   80.0           27.0          60.0             296.0  \n",
       "16621   50.0            4.0          62.0             484.0  \n",
       "16622  107.0           16.0          60.0             369.4  \n",
       "\n",
       "[16623 rows x 11 columns]"
      ]
     },
     "execution_count": 33,
     "metadata": {},
     "output_type": "execute_result"
    }
   ],
   "source": [
    "new_train"
   ]
  },
  {
   "cell_type": "markdown",
   "metadata": {},
   "source": [
    "### missing values were replaced with Knnimputer "
   ]
  },
  {
   "cell_type": "markdown",
   "metadata": {},
   "source": [
    "# Task 1.c\n",
    "different correlation with prices"
   ]
  },
  {
   "cell_type": "code",
   "execution_count": 35,
   "metadata": {},
   "outputs": [
    {
     "data": {
      "text/plain": [
       "<AxesSubplot:>"
      ]
     },
     "execution_count": 35,
     "metadata": {},
     "output_type": "execute_result"
    },
    {
     "data": {
      "image/png": "[encoded data removed]",
      "text/plain": [
       "<Figure size 720x720 with 2 Axes>"
      ]
     },
     "metadata": {
      "needs_background": "light"
     },
     "output_type": "display_data"
    }
   ],
   "source": [
    "rcParams['figure.figsize'] = 10, 10\n",
    "sns.heatmap(new_train.corr())"
   ]
  },
  {
   "cell_type": "markdown",
   "metadata": {},
   "source": [
    "# task 1.d\n",
    "detect anomalies"
   ]
  },
  {
   "cell_type": "code",
   "execution_count": 40,
   "metadata": {},
   "outputs": [
    {
     "data": {
      "text/plain": [
       "<AxesSubplot:xlabel='price', ylabel='Count'>"
      ]
     },
     "execution_count": 40,
     "metadata": {},
     "output_type": "execute_result"
    },
    {
     "data": {
      "image/png": "[encoded data removed]",
      "text/plain": [
       "<Figure size 720x720 with 1 Axes>"
      ]
     },
     "metadata": {
      "needs_background": "light"
     },
     "output_type": "display_data"
    }
   ],
   "source": [
    "sns.histplot((train.price.loc[train.price<=300]))"
   ]
  },
  {
   "cell_type": "code",
   "execution_count": 41,
   "metadata": {},
   "outputs": [
    {
     "data": {
      "text/plain": [
       "1.713364311593887"
      ]
     },
     "execution_count": 41,
     "metadata": {},
     "output_type": "execute_result"
    }
   ],
   "source": [
    "train.price.loc[train.price<=300].skew()"
   ]
  },
  {
   "cell_type": "code",
   "execution_count": 42,
   "metadata": {},
   "outputs": [
    {
     "data": {
      "text/plain": [
       "3.337601262810789"
      ]
     },
     "execution_count": 42,
     "metadata": {},
     "output_type": "execute_result"
    }
   ],
   "source": [
    "train.price.loc[train.price<=300].kurt()"
   ]
  },
  {
   "cell_type": "code",
   "execution_count": 44,
   "metadata": {},
   "outputs": [
    {
     "data": {
      "text/plain": [
       "2.1371358492575596"
      ]
     },
     "execution_count": 44,
     "metadata": {},
     "output_type": "execute_result"
    }
   ],
   "source": [
    "train.price.loc[train.price<=400].skew()"
   ]
  },
  {
   "cell_type": "code",
   "execution_count": 43,
   "metadata": {},
   "outputs": [
    {
     "data": {
      "text/plain": [
       "5.9080456582720595"
      ]
     },
     "execution_count": 43,
     "metadata": {},
     "output_type": "execute_result"
    }
   ],
   "source": [
    "train.price.loc[train.price<=400].kurt()"
   ]
  },
  {
   "cell_type": "markdown",
   "metadata": {},
   "source": [
    "### if we take prices lower or equal to 300 than we have something more close to normal distribution \n"
   ]
  },
  {
   "cell_type": "code",
   "execution_count": 213,
   "metadata": {},
   "outputs": [],
   "source": [
    "bad_indexes=list(train.loc[train.price>300].index)"
   ]
  },
  {
   "cell_type": "code",
   "execution_count": 94,
   "metadata": {},
   "outputs": [
    {
     "data": {
      "text/plain": [
       "72"
      ]
     },
     "execution_count": 94,
     "metadata": {},
     "output_type": "execute_result"
    }
   ],
   "source": [
    "train.drop(bad_indexes).hashed_places.nunique()"
   ]
  },
  {
   "cell_type": "code",
   "execution_count": 214,
   "metadata": {},
   "outputs": [],
   "source": [
    "train = train.drop(bad_indexes)"
   ]
  },
  {
   "cell_type": "code",
   "execution_count": 100,
   "metadata": {},
   "outputs": [
    {
     "data": {
      "text/plain": [
       "<seaborn.axisgrid.FacetGrid at 0x7fe6889bf4c0>"
      ]
     },
     "execution_count": 100,
     "metadata": {},
     "output_type": "execute_result"
    },
    {
     "data": {
      "image/png": "[encoded data removed]",
      "text/plain": [
       "<Figure size 864x216 with 4 Axes>"
      ]
     },
     "metadata": {
      "needs_background": "light"
     },
     "output_type": "display_data"
    }
   ],
   "source": [
    "g = sns.FacetGrid(new_train, col=\"hashed_rooms\")\n",
    "g.map(sns.histplot, \"price\")"
   ]
  },
  {
   "cell_type": "code",
   "execution_count": 102,
   "metadata": {},
   "outputs": [
    {
     "data": {
      "text/plain": [
       "<seaborn.axisgrid.FacetGrid at 0x7fe688d7fb50>"
      ]
     },
     "execution_count": 102,
     "metadata": {},
     "output_type": "execute_result"
    },
    {
     "data": {
      "image/png": "[encoded data removed]",
      "text/plain": [
       "<Figure size 15552x216 with 72 Axes>"
      ]
     },
     "metadata": {
      "needs_background": "light"
     },
     "output_type": "display_data"
    }
   ],
   "source": [
    "g = sns.FacetGrid(new_train, col=\"hashed_places\")\n",
    "g.map(sns.histplot, \"price\")"
   ]
  },
  {
   "cell_type": "markdown",
   "metadata": {},
   "source": [
    "# task 2.a"
   ]
  },
  {
   "cell_type": "code",
   "execution_count": 215,
   "metadata": {},
   "outputs": [],
   "source": [
    "X = train.drop('price', axis=1)\n",
    "\n",
    "y = train['price']"
   ]
  },
  {
   "cell_type": "code",
   "execution_count": 216,
   "metadata": {},
   "outputs": [],
   "source": [
    "X_train, X_test, y_train, y_test = train_test_split(X, y, test_size = 0.1, random_state = 0)"
   ]
  },
  {
   "cell_type": "code",
   "execution_count": 217,
   "metadata": {},
   "outputs": [],
   "source": [
    "xgb_reg=XGBRegressor()\n"
   ]
  },
  {
   "cell_type": "code",
   "execution_count": 218,
   "metadata": {},
   "outputs": [
    {
     "data": {
      "text/plain": [
       "XGBRegressor(base_score=0.5, booster='gbtree', colsample_bylevel=1,\n",
       "             colsample_bynode=1, colsample_bytree=1, gamma=0, gpu_id=-1,\n",
       "             importance_type='gain', interaction_constraints='',\n",
       "             learning_rate=0.300000012, max_delta_step=0, max_depth=6,\n",
       "             min_child_weight=1, missing=nan, monotone_constraints='()',\n",
       "             n_estimators=100, n_jobs=4, num_parallel_tree=1, random_state=0,\n",
       "             reg_alpha=0, reg_lambda=1, scale_pos_weight=1, subsample=1,\n",
       "             tree_method='exact', validate_parameters=1, verbosity=None)"
      ]
     },
     "execution_count": 218,
     "metadata": {},
     "output_type": "execute_result"
    }
   ],
   "source": [
    "xgb_reg.fit(X_train, y_train)"
   ]
  },
  {
   "cell_type": "code",
   "execution_count": 109,
   "metadata": {},
   "outputs": [],
   "source": [
    "from sklearn.metrics import mean_squared_error"
   ]
  },
  {
   "cell_type": "code",
   "execution_count": 219,
   "metadata": {},
   "outputs": [],
   "source": [
    "y_pred = xgb_reg.predict(X_test)\n"
   ]
  },
  {
   "cell_type": "code",
   "execution_count": 114,
   "metadata": {},
   "outputs": [],
   "source": [
    "import xgboost as xgb"
   ]
  },
  {
   "cell_type": "code",
   "execution_count": 220,
   "metadata": {},
   "outputs": [
    {
     "name": "stdout",
     "output_type": "stream",
     "text": [
      "Target matric of base model is : 36.7361 \n"
     ]
    }
   ],
   "source": [
    "print('Target matric of base model is : {0:0.4f} '.format(mean_squared_error(y_test, y_pred,squared=False)))"
   ]
  },
  {
   "cell_type": "code",
   "execution_count": 115,
   "metadata": {},
   "outputs": [
    {
     "data": {
      "image/png": "[encoded data removed]",
      "text/plain": [
       "<Figure size 720x720 with 1 Axes>"
      ]
     },
     "metadata": {
      "needs_background": "light"
     },
     "output_type": "display_data"
    },
    {
     "data": {
      "text/plain": [
       "<Figure size 1152x864 with 0 Axes>"
      ]
     },
     "metadata": {},
     "output_type": "display_data"
    }
   ],
   "source": [
    "xgb.plot_importance(xgb_reg)\n",
    "plt.figure(figsize = (16, 12))\n",
    "plt.show()"
   ]
  },
  {
   "cell_type": "code",
   "execution_count": 116,
   "metadata": {},
   "outputs": [],
   "source": [
    "xgb_regressor=XGBRegressor()\n",
    "\n",
    "\n",
    "parameters = {\n",
    "                 'learning_rate': [0.1, 0.3],\n",
    "                 'max_depth': [4, 6, 8],\n",
    "                 'n_estimators': [100,200]\n",
    "             }\n",
    "\n",
    "XGB_hyper_params = GridSearchCV(estimator=xgb_regressor, param_grid=parameters, n_jobs=-1, cv=5)"
   ]
  },
  {
   "cell_type": "code",
   "execution_count": 118,
   "metadata": {},
   "outputs": [
    {
     "data": {
      "text/plain": [
       "GridSearchCV(cv=5,\n",
       "             estimator=XGBRegressor(base_score=None, booster=None,\n",
       "                                    colsample_bylevel=None,\n",
       "                                    colsample_bynode=None,\n",
       "                                    colsample_bytree=None, gamma=None,\n",
       "                                    gpu_id=None, importance_type='gain',\n",
       "                                    interaction_constraints=None,\n",
       "                                    learning_rate=None, max_delta_step=None,\n",
       "                                    max_depth=None, min_child_weight=None,\n",
       "                                    missing=nan, monotone_constraints=None,\n",
       "                                    n_estimators=100, n_jobs=None,\n",
       "                                    num_parallel_tree=None, random_state=None,\n",
       "                                    reg_alpha=None, reg_lambda=None,\n",
       "                                    scale_pos_weight=None, subsample=None,\n",
       "                                    tree_method=None, validate_parameters=None,\n",
       "                                    verbosity=None),\n",
       "             n_jobs=-1,\n",
       "             param_grid={'learning_rate': [0.1, 0.3], 'max_depth': [4, 6, 8],\n",
       "                         'n_estimators': [100, 200]})"
      ]
     },
     "execution_count": 118,
     "metadata": {},
     "output_type": "execute_result"
    }
   ],
   "source": [
    "XGB_hyper_params.fit(X_train,y_train)"
   ]
  },
  {
   "cell_type": "code",
   "execution_count": 119,
   "metadata": {},
   "outputs": [
    {
     "data": {
      "text/plain": [
       "{'learning_rate': 0.1, 'max_depth': 8, 'n_estimators': 200}"
      ]
     },
     "execution_count": 119,
     "metadata": {},
     "output_type": "execute_result"
    }
   ],
   "source": [
    "XGB_hyper_params.best_params_"
   ]
  },
  {
   "cell_type": "code",
   "execution_count": 120,
   "metadata": {},
   "outputs": [],
   "source": [
    "final_xgb = XGBRegressor(learning_rate = 0.1, max_depth = 8, n_estimators = 200)"
   ]
  },
  {
   "cell_type": "code",
   "execution_count": 221,
   "metadata": {},
   "outputs": [
    {
     "data": {
      "text/plain": [
       "XGBRegressor(base_score=0.5, booster='gbtree', colsample_bylevel=1,\n",
       "             colsample_bynode=1, colsample_bytree=1, gamma=0, gpu_id=-1,\n",
       "             importance_type='gain', interaction_constraints='',\n",
       "             learning_rate=0.1, max_delta_step=0, max_depth=8,\n",
       "             min_child_weight=1, missing=nan, monotone_constraints='()',\n",
       "             n_estimators=200, n_jobs=4, num_parallel_tree=1, random_state=0,\n",
       "             reg_alpha=0, reg_lambda=1, scale_pos_weight=1, subsample=1,\n",
       "             tree_method='exact', validate_parameters=1, verbosity=None)"
      ]
     },
     "execution_count": 221,
     "metadata": {},
     "output_type": "execute_result"
    }
   ],
   "source": [
    "final_xgb.fit(X_train,y_train)"
   ]
  },
  {
   "cell_type": "code",
   "execution_count": 222,
   "metadata": {},
   "outputs": [],
   "source": [
    "final_y_pred = final_xgb.predict(X_test)\n"
   ]
  },
  {
   "cell_type": "code",
   "execution_count": 223,
   "metadata": {},
   "outputs": [
    {
     "name": "stdout",
     "output_type": "stream",
     "text": [
      "Target matric of xgboost model is: 36.7057 \n"
     ]
    }
   ],
   "source": [
    "print('Target matric of xgboost model is: {0:0.4f} '.format(mean_squared_error(y_test, final_y_pred,squared=False)))"
   ]
  },
  {
   "cell_type": "code",
   "execution_count": 126,
   "metadata": {},
   "outputs": [],
   "source": [
    "from lightgbm import LGBMRegressor as lgb\n"
   ]
  },
  {
   "cell_type": "code",
   "execution_count": 127,
   "metadata": {},
   "outputs": [],
   "source": [
    "lgb_model=lgb()\n",
    "\n",
    "\n",
    "parameters = {\n",
    "                 'learning_rate': [0.1, 0.3],\n",
    "                 'max_depth': [4, 6, 8],\n",
    "                 'n_estimators': [200,300]\n",
    "             }\n",
    "\n",
    "lgb_hyper_params = GridSearchCV(estimator=lgb_model, param_grid=parameters, n_jobs=-1, cv=5)"
   ]
  },
  {
   "cell_type": "code",
   "execution_count": 128,
   "metadata": {},
   "outputs": [
    {
     "data": {
      "text/plain": [
       "GridSearchCV(cv=5, estimator=LGBMRegressor(), n_jobs=-1,\n",
       "             param_grid={'learning_rate': [0.1, 0.3], 'max_depth': [4, 6, 8],\n",
       "                         'n_estimators': [200, 300]})"
      ]
     },
     "execution_count": 128,
     "metadata": {},
     "output_type": "execute_result"
    }
   ],
   "source": [
    "lgb_hyper_params.fit(X_train,y_train)"
   ]
  },
  {
   "cell_type": "code",
   "execution_count": 129,
   "metadata": {},
   "outputs": [
    {
     "data": {
      "text/plain": [
       "{'learning_rate': 0.1, 'max_depth': 8, 'n_estimators': 300}"
      ]
     },
     "execution_count": 129,
     "metadata": {},
     "output_type": "execute_result"
    }
   ],
   "source": [
    "lgb_hyper_params.best_params_"
   ]
  },
  {
   "cell_type": "code",
   "execution_count": 224,
   "metadata": {},
   "outputs": [],
   "source": [
    "lgb_model=lgb(max_depth = 8, n_estimators = 300)"
   ]
  },
  {
   "cell_type": "code",
   "execution_count": 225,
   "metadata": {},
   "outputs": [
    {
     "data": {
      "text/plain": [
       "LGBMRegressor(max_depth=8, n_estimators=300)"
      ]
     },
     "execution_count": 225,
     "metadata": {},
     "output_type": "execute_result"
    }
   ],
   "source": [
    "lgb_model.fit(X_train,y_train)"
   ]
  },
  {
   "cell_type": "code",
   "execution_count": 226,
   "metadata": {},
   "outputs": [],
   "source": [
    "lgb_y_pred = lgb_model.predict(X_test)"
   ]
  },
  {
   "cell_type": "code",
   "execution_count": 227,
   "metadata": {},
   "outputs": [
    {
     "name": "stdout",
     "output_type": "stream",
     "text": [
      "Target matric of base lgb model is: 36.2424 \n"
     ]
    }
   ],
   "source": [
    "print('Target matric of base lgb model is: {0:0.4f} '.format(mean_squared_error(y_test, lgb_y_pred,squared=False)))"
   ]
  },
  {
   "cell_type": "code",
   "execution_count": 141,
   "metadata": {},
   "outputs": [],
   "source": [
    "ensemble_pred = 0.5*lgb_y_pred + 0.5*final_y_pred"
   ]
  },
  {
   "cell_type": "code",
   "execution_count": 142,
   "metadata": {},
   "outputs": [
    {
     "name": "stdout",
     "output_type": "stream",
     "text": [
      "Target matric of base ensemble model is: 35.4739 \n"
     ]
    }
   ],
   "source": [
    "print('Target matric of base ensemble model is: {0:0.4f} '.format(mean_squared_error(y_test, ensemble_pred,squared=False)))"
   ]
  },
  {
   "cell_type": "markdown",
   "metadata": {},
   "source": [
    "# notes \n",
    "delete highly correlated feature from our dataset increased a lit bit light gbm model"
   ]
  },
  {
   "cell_type": "code",
   "execution_count": 228,
   "metadata": {},
   "outputs": [],
   "source": [
    "new_X_train = X_train.drop('reviews_per_month',axis=1)\n",
    "new_X_test = X_test.drop('reviews_per_month',axis=1)"
   ]
  },
  {
   "cell_type": "code",
   "execution_count": 229,
   "metadata": {},
   "outputs": [],
   "source": [
    "lgb_model_1 = lgb(max_depth = 8, n_estimators = 300)\n",
    "final_xgb_1 = XGBRegressor(learning_rate = 0.1, max_depth = 8, n_estimators = 200)"
   ]
  },
  {
   "cell_type": "code",
   "execution_count": 230,
   "metadata": {},
   "outputs": [
    {
     "data": {
      "text/plain": [
       "LGBMRegressor(max_depth=8, n_estimators=300)"
      ]
     },
     "execution_count": 230,
     "metadata": {},
     "output_type": "execute_result"
    }
   ],
   "source": [
    "lgb_model_1.fit(new_X_train,y_train)"
   ]
  },
  {
   "cell_type": "code",
   "execution_count": 231,
   "metadata": {},
   "outputs": [
    {
     "data": {
      "text/plain": [
       "XGBRegressor(base_score=0.5, booster='gbtree', colsample_bylevel=1,\n",
       "             colsample_bynode=1, colsample_bytree=1, gamma=0, gpu_id=-1,\n",
       "             importance_type='gain', interaction_constraints='',\n",
       "             learning_rate=0.1, max_delta_step=0, max_depth=8,\n",
       "             min_child_weight=1, missing=nan, monotone_constraints='()',\n",
       "             n_estimators=200, n_jobs=4, num_parallel_tree=1, random_state=0,\n",
       "             reg_alpha=0, reg_lambda=1, scale_pos_weight=1, subsample=1,\n",
       "             tree_method='exact', validate_parameters=1, verbosity=None)"
      ]
     },
     "execution_count": 231,
     "metadata": {},
     "output_type": "execute_result"
    }
   ],
   "source": [
    "final_xgb_1.fit(new_X_train,y_train)"
   ]
  },
  {
   "cell_type": "code",
   "execution_count": 232,
   "metadata": {},
   "outputs": [],
   "source": [
    "lgb_y_pred_1 = lgb_model_1.predict(new_X_test)"
   ]
  },
  {
   "cell_type": "code",
   "execution_count": 233,
   "metadata": {},
   "outputs": [],
   "source": [
    "final_y_pred_1 = final_xgb_1.predict(new_X_test)\n"
   ]
  },
  {
   "cell_type": "code",
   "execution_count": 234,
   "metadata": {},
   "outputs": [
    {
     "name": "stdout",
     "output_type": "stream",
     "text": [
      "Target matric of base lgb model is: 36.1601 \n"
     ]
    }
   ],
   "source": [
    "print('Target matric of base lgb model is: {0:0.4f} '.format(mean_squared_error(y_test, lgb_y_pred_1,squared=False)))"
   ]
  },
  {
   "cell_type": "code",
   "execution_count": 235,
   "metadata": {},
   "outputs": [
    {
     "name": "stdout",
     "output_type": "stream",
     "text": [
      "Target matric of xgboost model is: 35.9839 \n"
     ]
    }
   ],
   "source": [
    "print('Target matric of xgboost model is: {0:0.4f} '.format(mean_squared_error(y_test, final_y_pred_1,squared=False)))"
   ]
  },
  {
   "cell_type": "code",
   "execution_count": 155,
   "metadata": {},
   "outputs": [],
   "source": [
    "ensemble_pred_1 = 0.75*lgb_y_pred + 0.25*final_y_pred"
   ]
  },
  {
   "cell_type": "code",
   "execution_count": 156,
   "metadata": {},
   "outputs": [
    {
     "name": "stdout",
     "output_type": "stream",
     "text": [
      "Target matric of base ensemble model is: 35.4739 \n"
     ]
    }
   ],
   "source": [
    "print('Target matric of base ensemble model is: {0:0.4f} '.format(mean_squared_error(y_test, ensemble_pred,squared=False)))"
   ]
  },
  {
   "cell_type": "markdown",
   "metadata": {},
   "source": [
    "### preprocessing test data"
   ]
  },
  {
   "cell_type": "code",
   "execution_count": 167,
   "metadata": {},
   "outputs": [],
   "source": [
    "test = pd.read_csv('flat_info_test.csv')"
   ]
  },
  {
   "cell_type": "code",
   "execution_count": 168,
   "metadata": {},
   "outputs": [],
   "source": [
    "test = test.drop(['id','name','host_id','host_name'],axis=1)"
   ]
  },
  {
   "cell_type": "code",
   "execution_count": 169,
   "metadata": {},
   "outputs": [],
   "source": [
    "hash_space=3000\n",
    "test['hashed_places'] = pd.Series(hash(place)%hash_space for place in test.neighbourhood)"
   ]
  },
  {
   "cell_type": "code",
   "execution_count": 170,
   "metadata": {},
   "outputs": [],
   "source": [
    "hash_space=80\n",
    "test['hashed_rooms'] = pd.Series(hash(place)%hash_space for place in test.room_type)"
   ]
  },
  {
   "cell_type": "code",
   "execution_count": 172,
   "metadata": {},
   "outputs": [],
   "source": [
    "test = test.drop(['neighbourhood','room_type'],axis=1)"
   ]
  },
  {
   "cell_type": "code",
   "execution_count": 173,
   "metadata": {},
   "outputs": [
    {
     "data": {
      "text/html": [
       "<div>\n",
       "<style scoped>\n",
       "    .dataframe tbody tr th:only-of-type {\n",
       "        vertical-align: middle;\n",
       "    }\n",
       "\n",
       "    .dataframe tbody tr th {\n",
       "        vertical-align: top;\n",
       "    }\n",
       "\n",
       "    .dataframe thead th {\n",
       "        text-align: right;\n",
       "    }\n",
       "</style>\n",
       "<table border=\"1\" class=\"dataframe\">\n",
       "  <thead>\n",
       "    <tr style=\"text-align: right;\">\n",
       "      <th></th>\n",
       "      <th>latitude</th>\n",
       "      <th>longitude</th>\n",
       "      <th>minimum_nights</th>\n",
       "      <th>number_of_reviews</th>\n",
       "      <th>last_review</th>\n",
       "      <th>reviews_per_month</th>\n",
       "      <th>calculated_host_listings_count</th>\n",
       "      <th>availability_365</th>\n",
       "      <th>hashed_places</th>\n",
       "      <th>hashed_rooms</th>\n",
       "    </tr>\n",
       "  </thead>\n",
       "  <tbody>\n",
       "    <tr>\n",
       "      <th>0</th>\n",
       "      <td>41.41363</td>\n",
       "      <td>2.20724</td>\n",
       "      <td>32</td>\n",
       "      <td>0</td>\n",
       "      <td>NaN</td>\n",
       "      <td>NaN</td>\n",
       "      <td>29</td>\n",
       "      <td>364</td>\n",
       "      <td>2139</td>\n",
       "      <td>60</td>\n",
       "    </tr>\n",
       "    <tr>\n",
       "      <th>1</th>\n",
       "      <td>41.37290</td>\n",
       "      <td>2.16580</td>\n",
       "      <td>32</td>\n",
       "      <td>0</td>\n",
       "      <td>NaN</td>\n",
       "      <td>NaN</td>\n",
       "      <td>39</td>\n",
       "      <td>181</td>\n",
       "      <td>2740</td>\n",
       "      <td>60</td>\n",
       "    </tr>\n",
       "    <tr>\n",
       "      <th>2</th>\n",
       "      <td>41.38216</td>\n",
       "      <td>2.15141</td>\n",
       "      <td>4</td>\n",
       "      <td>0</td>\n",
       "      <td>NaN</td>\n",
       "      <td>NaN</td>\n",
       "      <td>1</td>\n",
       "      <td>0</td>\n",
       "      <td>2286</td>\n",
       "      <td>62</td>\n",
       "    </tr>\n",
       "    <tr>\n",
       "      <th>3</th>\n",
       "      <td>41.38441</td>\n",
       "      <td>2.18361</td>\n",
       "      <td>4</td>\n",
       "      <td>12</td>\n",
       "      <td>2021-01-11</td>\n",
       "      <td>0.89</td>\n",
       "      <td>12</td>\n",
       "      <td>40</td>\n",
       "      <td>373</td>\n",
       "      <td>60</td>\n",
       "    </tr>\n",
       "    <tr>\n",
       "      <th>4</th>\n",
       "      <td>41.40360</td>\n",
       "      <td>2.17037</td>\n",
       "      <td>3</td>\n",
       "      <td>167</td>\n",
       "      <td>2020-11-19</td>\n",
       "      <td>2.09</td>\n",
       "      <td>4</td>\n",
       "      <td>326</td>\n",
       "      <td>473</td>\n",
       "      <td>60</td>\n",
       "    </tr>\n",
       "    <tr>\n",
       "      <th>...</th>\n",
       "      <td>...</td>\n",
       "      <td>...</td>\n",
       "      <td>...</td>\n",
       "      <td>...</td>\n",
       "      <td>...</td>\n",
       "      <td>...</td>\n",
       "      <td>...</td>\n",
       "      <td>...</td>\n",
       "      <td>...</td>\n",
       "      <td>...</td>\n",
       "    </tr>\n",
       "    <tr>\n",
       "      <th>1843</th>\n",
       "      <td>41.40798</td>\n",
       "      <td>2.18416</td>\n",
       "      <td>2</td>\n",
       "      <td>66</td>\n",
       "      <td>2020-03-01</td>\n",
       "      <td>1.45</td>\n",
       "      <td>3</td>\n",
       "      <td>281</td>\n",
       "      <td>2547</td>\n",
       "      <td>62</td>\n",
       "    </tr>\n",
       "    <tr>\n",
       "      <th>1844</th>\n",
       "      <td>41.39798</td>\n",
       "      <td>2.20426</td>\n",
       "      <td>1</td>\n",
       "      <td>158</td>\n",
       "      <td>2020-01-03</td>\n",
       "      <td>1.59</td>\n",
       "      <td>1</td>\n",
       "      <td>131</td>\n",
       "      <td>814</td>\n",
       "      <td>60</td>\n",
       "    </tr>\n",
       "    <tr>\n",
       "      <th>1845</th>\n",
       "      <td>41.39926</td>\n",
       "      <td>2.16205</td>\n",
       "      <td>1</td>\n",
       "      <td>534</td>\n",
       "      <td>2021-01-29</td>\n",
       "      <td>5.43</td>\n",
       "      <td>1</td>\n",
       "      <td>339</td>\n",
       "      <td>2965</td>\n",
       "      <td>60</td>\n",
       "    </tr>\n",
       "    <tr>\n",
       "      <th>1846</th>\n",
       "      <td>41.37301</td>\n",
       "      <td>2.16530</td>\n",
       "      <td>2</td>\n",
       "      <td>20</td>\n",
       "      <td>2020-02-18</td>\n",
       "      <td>1.10</td>\n",
       "      <td>2</td>\n",
       "      <td>0</td>\n",
       "      <td>2740</td>\n",
       "      <td>62</td>\n",
       "    </tr>\n",
       "    <tr>\n",
       "      <th>1847</th>\n",
       "      <td>41.39300</td>\n",
       "      <td>2.17107</td>\n",
       "      <td>32</td>\n",
       "      <td>7</td>\n",
       "      <td>2018-09-17</td>\n",
       "      <td>0.10</td>\n",
       "      <td>15</td>\n",
       "      <td>197</td>\n",
       "      <td>2075</td>\n",
       "      <td>60</td>\n",
       "    </tr>\n",
       "  </tbody>\n",
       "</table>\n",
       "<p>1848 rows × 10 columns</p>\n",
       "</div>"
      ],
      "text/plain": [
       "      latitude  longitude  minimum_nights  number_of_reviews last_review  \\\n",
       "0     41.41363    2.20724              32                  0         NaN   \n",
       "1     41.37290    2.16580              32                  0         NaN   \n",
       "2     41.38216    2.15141               4                  0         NaN   \n",
       "3     41.38441    2.18361               4                 12  2021-01-11   \n",
       "4     41.40360    2.17037               3                167  2020-11-19   \n",
       "...        ...        ...             ...                ...         ...   \n",
       "1843  41.40798    2.18416               2                 66  2020-03-01   \n",
       "1844  41.39798    2.20426               1                158  2020-01-03   \n",
       "1845  41.39926    2.16205               1                534  2021-01-29   \n",
       "1846  41.37301    2.16530               2                 20  2020-02-18   \n",
       "1847  41.39300    2.17107              32                  7  2018-09-17   \n",
       "\n",
       "      reviews_per_month  calculated_host_listings_count  availability_365  \\\n",
       "0                   NaN                              29               364   \n",
       "1                   NaN                              39               181   \n",
       "2                   NaN                               1                 0   \n",
       "3                  0.89                              12                40   \n",
       "4                  2.09                               4               326   \n",
       "...                 ...                             ...               ...   \n",
       "1843               1.45                               3               281   \n",
       "1844               1.59                               1               131   \n",
       "1845               5.43                               1               339   \n",
       "1846               1.10                               2                 0   \n",
       "1847               0.10                              15               197   \n",
       "\n",
       "      hashed_places  hashed_rooms  \n",
       "0              2139            60  \n",
       "1              2740            60  \n",
       "2              2286            62  \n",
       "3               373            60  \n",
       "4               473            60  \n",
       "...             ...           ...  \n",
       "1843           2547            62  \n",
       "1844            814            60  \n",
       "1845           2965            60  \n",
       "1846           2740            62  \n",
       "1847           2075            60  \n",
       "\n",
       "[1848 rows x 10 columns]"
      ]
     },
     "execution_count": 173,
     "metadata": {},
     "output_type": "execute_result"
    }
   ],
   "source": [
    "test"
   ]
  },
  {
   "cell_type": "code",
   "execution_count": 175,
   "metadata": {},
   "outputs": [],
   "source": [
    "test.last_review = pd.to_datetime(test.last_review)"
   ]
  },
  {
   "cell_type": "code",
   "execution_count": 177,
   "metadata": {},
   "outputs": [],
   "source": [
    "new_days_1=[]\n",
    "for last in test.last_review:\n",
    "    try:\n",
    "        new_days_1.append((now-last.date()).days)\n",
    "    except:\n",
    "        new_days_1.append(np.nan)"
   ]
  },
  {
   "cell_type": "code",
   "execution_count": 178,
   "metadata": {},
   "outputs": [],
   "source": [
    "test['days_last_review'] = pd.Series(new_days_1)"
   ]
  },
  {
   "cell_type": "code",
   "execution_count": 179,
   "metadata": {},
   "outputs": [],
   "source": [
    "test = test.drop('last_review',axis=1)"
   ]
  },
  {
   "cell_type": "code",
   "execution_count": 180,
   "metadata": {},
   "outputs": [],
   "source": [
    "imputer = KNNImputer(n_neighbors=5)"
   ]
  },
  {
   "cell_type": "code",
   "execution_count": 181,
   "metadata": {},
   "outputs": [],
   "source": [
    "new_test=imputer.fit_transform(test)"
   ]
  },
  {
   "cell_type": "code",
   "execution_count": 183,
   "metadata": {},
   "outputs": [],
   "source": [
    "new_test = pd.DataFrame(data=new_test,columns=['latitude','longitude','minimum_nights','number_of_reviews','reviews_per_month','calculated_host_listings_count','availability_365','hashed_places','hashed_rooms','days_last_review'])"
   ]
  },
  {
   "cell_type": "code",
   "execution_count": 184,
   "metadata": {},
   "outputs": [
    {
     "data": {
      "text/html": [
       "<div>\n",
       "<style scoped>\n",
       "    .dataframe tbody tr th:only-of-type {\n",
       "        vertical-align: middle;\n",
       "    }\n",
       "\n",
       "    .dataframe tbody tr th {\n",
       "        vertical-align: top;\n",
       "    }\n",
       "\n",
       "    .dataframe thead th {\n",
       "        text-align: right;\n",
       "    }\n",
       "</style>\n",
       "<table border=\"1\" class=\"dataframe\">\n",
       "  <thead>\n",
       "    <tr style=\"text-align: right;\">\n",
       "      <th></th>\n",
       "      <th>latitude</th>\n",
       "      <th>longitude</th>\n",
       "      <th>minimum_nights</th>\n",
       "      <th>number_of_reviews</th>\n",
       "      <th>reviews_per_month</th>\n",
       "      <th>calculated_host_listings_count</th>\n",
       "      <th>availability_365</th>\n",
       "      <th>hashed_places</th>\n",
       "      <th>hashed_rooms</th>\n",
       "      <th>days_last_review</th>\n",
       "    </tr>\n",
       "  </thead>\n",
       "  <tbody>\n",
       "    <tr>\n",
       "      <th>0</th>\n",
       "      <td>41.41363</td>\n",
       "      <td>2.20724</td>\n",
       "      <td>32.0</td>\n",
       "      <td>0.0</td>\n",
       "      <td>0.194</td>\n",
       "      <td>29.0</td>\n",
       "      <td>364.0</td>\n",
       "      <td>2139.0</td>\n",
       "      <td>60.0</td>\n",
       "      <td>515.8</td>\n",
       "    </tr>\n",
       "    <tr>\n",
       "      <th>1</th>\n",
       "      <td>41.37290</td>\n",
       "      <td>2.16580</td>\n",
       "      <td>32.0</td>\n",
       "      <td>0.0</td>\n",
       "      <td>0.198</td>\n",
       "      <td>39.0</td>\n",
       "      <td>181.0</td>\n",
       "      <td>2740.0</td>\n",
       "      <td>60.0</td>\n",
       "      <td>603.2</td>\n",
       "    </tr>\n",
       "    <tr>\n",
       "      <th>2</th>\n",
       "      <td>41.38216</td>\n",
       "      <td>2.15141</td>\n",
       "      <td>4.0</td>\n",
       "      <td>0.0</td>\n",
       "      <td>0.060</td>\n",
       "      <td>1.0</td>\n",
       "      <td>0.0</td>\n",
       "      <td>2286.0</td>\n",
       "      <td>62.0</td>\n",
       "      <td>1228.4</td>\n",
       "    </tr>\n",
       "    <tr>\n",
       "      <th>3</th>\n",
       "      <td>41.38441</td>\n",
       "      <td>2.18361</td>\n",
       "      <td>4.0</td>\n",
       "      <td>12.0</td>\n",
       "      <td>0.890</td>\n",
       "      <td>12.0</td>\n",
       "      <td>40.0</td>\n",
       "      <td>373.0</td>\n",
       "      <td>60.0</td>\n",
       "      <td>162.0</td>\n",
       "    </tr>\n",
       "    <tr>\n",
       "      <th>4</th>\n",
       "      <td>41.40360</td>\n",
       "      <td>2.17037</td>\n",
       "      <td>3.0</td>\n",
       "      <td>167.0</td>\n",
       "      <td>2.090</td>\n",
       "      <td>4.0</td>\n",
       "      <td>326.0</td>\n",
       "      <td>473.0</td>\n",
       "      <td>60.0</td>\n",
       "      <td>215.0</td>\n",
       "    </tr>\n",
       "    <tr>\n",
       "      <th>...</th>\n",
       "      <td>...</td>\n",
       "      <td>...</td>\n",
       "      <td>...</td>\n",
       "      <td>...</td>\n",
       "      <td>...</td>\n",
       "      <td>...</td>\n",
       "      <td>...</td>\n",
       "      <td>...</td>\n",
       "      <td>...</td>\n",
       "      <td>...</td>\n",
       "    </tr>\n",
       "    <tr>\n",
       "      <th>1843</th>\n",
       "      <td>41.40798</td>\n",
       "      <td>2.18416</td>\n",
       "      <td>2.0</td>\n",
       "      <td>66.0</td>\n",
       "      <td>1.450</td>\n",
       "      <td>3.0</td>\n",
       "      <td>281.0</td>\n",
       "      <td>2547.0</td>\n",
       "      <td>62.0</td>\n",
       "      <td>478.0</td>\n",
       "    </tr>\n",
       "    <tr>\n",
       "      <th>1844</th>\n",
       "      <td>41.39798</td>\n",
       "      <td>2.20426</td>\n",
       "      <td>1.0</td>\n",
       "      <td>158.0</td>\n",
       "      <td>1.590</td>\n",
       "      <td>1.0</td>\n",
       "      <td>131.0</td>\n",
       "      <td>814.0</td>\n",
       "      <td>60.0</td>\n",
       "      <td>536.0</td>\n",
       "    </tr>\n",
       "    <tr>\n",
       "      <th>1845</th>\n",
       "      <td>41.39926</td>\n",
       "      <td>2.16205</td>\n",
       "      <td>1.0</td>\n",
       "      <td>534.0</td>\n",
       "      <td>5.430</td>\n",
       "      <td>1.0</td>\n",
       "      <td>339.0</td>\n",
       "      <td>2965.0</td>\n",
       "      <td>60.0</td>\n",
       "      <td>144.0</td>\n",
       "    </tr>\n",
       "    <tr>\n",
       "      <th>1846</th>\n",
       "      <td>41.37301</td>\n",
       "      <td>2.16530</td>\n",
       "      <td>2.0</td>\n",
       "      <td>20.0</td>\n",
       "      <td>1.100</td>\n",
       "      <td>2.0</td>\n",
       "      <td>0.0</td>\n",
       "      <td>2740.0</td>\n",
       "      <td>62.0</td>\n",
       "      <td>490.0</td>\n",
       "    </tr>\n",
       "    <tr>\n",
       "      <th>1847</th>\n",
       "      <td>41.39300</td>\n",
       "      <td>2.17107</td>\n",
       "      <td>32.0</td>\n",
       "      <td>7.0</td>\n",
       "      <td>0.100</td>\n",
       "      <td>15.0</td>\n",
       "      <td>197.0</td>\n",
       "      <td>2075.0</td>\n",
       "      <td>60.0</td>\n",
       "      <td>1009.0</td>\n",
       "    </tr>\n",
       "  </tbody>\n",
       "</table>\n",
       "<p>1848 rows × 10 columns</p>\n",
       "</div>"
      ],
      "text/plain": [
       "      latitude  longitude  minimum_nights  number_of_reviews  \\\n",
       "0     41.41363    2.20724            32.0                0.0   \n",
       "1     41.37290    2.16580            32.0                0.0   \n",
       "2     41.38216    2.15141             4.0                0.0   \n",
       "3     41.38441    2.18361             4.0               12.0   \n",
       "4     41.40360    2.17037             3.0              167.0   \n",
       "...        ...        ...             ...                ...   \n",
       "1843  41.40798    2.18416             2.0               66.0   \n",
       "1844  41.39798    2.20426             1.0              158.0   \n",
       "1845  41.39926    2.16205             1.0              534.0   \n",
       "1846  41.37301    2.16530             2.0               20.0   \n",
       "1847  41.39300    2.17107            32.0                7.0   \n",
       "\n",
       "      reviews_per_month  calculated_host_listings_count  availability_365  \\\n",
       "0                 0.194                            29.0             364.0   \n",
       "1                 0.198                            39.0             181.0   \n",
       "2                 0.060                             1.0               0.0   \n",
       "3                 0.890                            12.0              40.0   \n",
       "4                 2.090                             4.0             326.0   \n",
       "...                 ...                             ...               ...   \n",
       "1843              1.450                             3.0             281.0   \n",
       "1844              1.590                             1.0             131.0   \n",
       "1845              5.430                             1.0             339.0   \n",
       "1846              1.100                             2.0               0.0   \n",
       "1847              0.100                            15.0             197.0   \n",
       "\n",
       "      hashed_places  hashed_rooms  days_last_review  \n",
       "0            2139.0          60.0             515.8  \n",
       "1            2740.0          60.0             603.2  \n",
       "2            2286.0          62.0            1228.4  \n",
       "3             373.0          60.0             162.0  \n",
       "4             473.0          60.0             215.0  \n",
       "...             ...           ...               ...  \n",
       "1843         2547.0          62.0             478.0  \n",
       "1844          814.0          60.0             536.0  \n",
       "1845         2965.0          60.0             144.0  \n",
       "1846         2740.0          62.0             490.0  \n",
       "1847         2075.0          60.0            1009.0  \n",
       "\n",
       "[1848 rows x 10 columns]"
      ]
     },
     "execution_count": 184,
     "metadata": {},
     "output_type": "execute_result"
    }
   ],
   "source": [
    "new_test"
   ]
  },
  {
   "cell_type": "code",
   "execution_count": 185,
   "metadata": {},
   "outputs": [],
   "source": [
    "new_test = new_test.drop('reviews_per_month',axis=1)"
   ]
  },
  {
   "cell_type": "code",
   "execution_count": 186,
   "metadata": {},
   "outputs": [],
   "source": [
    "final_lgb_pred = lgb_model_1.predict(new_test)"
   ]
  },
  {
   "cell_type": "code",
   "execution_count": 187,
   "metadata": {},
   "outputs": [],
   "source": [
    "final_xgb_pred = final_xgb_1.predict(new_test)\n"
   ]
  },
  {
   "cell_type": "code",
   "execution_count": 188,
   "metadata": {},
   "outputs": [],
   "source": [
    "final_ensemble_pred = 0.75*final_lgb_pred + 0.25*final_xgb_pred"
   ]
  },
  {
   "cell_type": "code",
   "execution_count": 191,
   "metadata": {},
   "outputs": [],
   "source": [
    "predictions=pd.Series(data=final_ensemble_pred)"
   ]
  },
  {
   "cell_type": "code",
   "execution_count": 192,
   "metadata": {},
   "outputs": [],
   "source": [
    "predictions.to_csv(\"Kyrylo_Yemets_predictions.csv\",index=False)"
   ]
  },
  {
   "cell_type": "code",
   "execution_count": null,
   "metadata": {},
   "outputs": [],
   "source": []
  }
 ],
 "metadata": {
  "kernelspec": {
   "display_name": "Python 3",
   "language": "python",
   "name": "python3"
  },
  "language_info": {
   "codemirror_mode": {
    "name": "ipython",
    "version": 3
   },
   "file_extension": ".py",
   "mimetype": "text/x-python",
   "name": "python",
   "nbconvert_exporter": "python",
   "pygments_lexer": "ipython3",
   "version": "3.9.4"
  }
 },
 "nbformat": 4,
 "nbformat_minor": 4
}
